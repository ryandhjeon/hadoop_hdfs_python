{
 "cells": [
  {
   "cell_type": "code",
   "execution_count": 1,
   "id": "chemical-creator",
   "metadata": {},
   "outputs": [],
   "source": [
    "from hdfs import InsecureClient\n",
    "from datetime import datetime\n",
    "import posixpath as psp"
   ]
  },
  {
   "cell_type": "code",
   "execution_count": 2,
   "id": "atmospheric-measurement",
   "metadata": {},
   "outputs": [],
   "source": [
    "client = InsecureClient(url='http://localhost:9870', root='/')"
   ]
  },
  {
   "cell_type": "code",
   "execution_count": 3,
   "id": "related-target",
   "metadata": {},
   "outputs": [],
   "source": [
    "# Helper\n",
    "def perms(p, prefix='-'):\n",
    "    s = ''\n",
    "    for idx in range(0, 3):\n",
    "        if int(p[idx]) & 4 is 4: s = s + 'r'\n",
    "        else: s = s + '-'\n",
    "        if int(p[idx]) & 2 is 2: s = s + 'w'\n",
    "        else: s = s + '-'\n",
    "        if int(p[idx]) & 1 is 1: s = s + 'x'\n",
    "        else: s = s + '-'\n",
    "\n",
    "    return prefix + s\n",
    "\n",
    "# helper to print stats about a file/directory\n",
    "# the prefix is the first printed permission,\n",
    "# a 'd' for directory otherwise '-'\n",
    "def printfile(name, stats, prefix='-'):\n",
    "    print(' '.join((\\\n",
    "        perms(stats['permission'], prefix),\\\n",
    "        '  -' if stats['replication'] is 0 else '%3d' % stats['replication'],\\\n",
    "        stats['owner'],\\\n",
    "        stats['group'],\\\n",
    "        '%10d' % stats['length'],\\\n",
    "        datetime.fromtimestamp(stats['modificationTime'] / 1000).strftime('%Y-%m-%d %H:%M'),\\\n",
    "        name)))"
   ]
  },
  {
   "cell_type": "code",
   "execution_count": 4,
   "id": "extreme-smart",
   "metadata": {},
   "outputs": [],
   "source": [
    "# 1. Make a directory named: /activity1/\n",
    "client.makedirs(hdfs_path='/activity1/', permission=None)\n",
    "client.makedirs(hdfs_path='/activity1/data/', permission=None)"
   ]
  },
  {
   "cell_type": "code",
   "execution_count": 5,
   "id": "proper-eclipse",
   "metadata": {},
   "outputs": [
    {
     "data": {
      "text/plain": [
       "'/activity1/data/RandomText.txt'"
      ]
     },
     "execution_count": 5,
     "metadata": {},
     "output_type": "execute_result"
    }
   ],
   "source": [
    "# 2. Put the file RandomText.txt into HDFS as the path: /activity1/data/RandomText.txt\n",
    "client.upload(hdfs_path='/activity1/data/', local_path='./RandomText.txt')"
   ]
  },
  {
   "cell_type": "code",
   "execution_count": 6,
   "id": "preliminary-league",
   "metadata": {},
   "outputs": [
    {
     "data": {
      "text/plain": [
       "['RandomText.txt']"
      ]
     },
     "execution_count": 6,
     "metadata": {},
     "output_type": "execute_result"
    }
   ],
   "source": [
    "# 3. List the contents of the directory /activity1/data/\n",
    "client.list('/activity1/data')"
   ]
  },
  {
   "cell_type": "code",
   "execution_count": 7,
   "id": "equal-zoning",
   "metadata": {},
   "outputs": [
    {
     "data": {
      "text/plain": [
       "['NotSoRandomText.txt']"
      ]
     },
     "execution_count": 7,
     "metadata": {},
     "output_type": "execute_result"
    }
   ],
   "source": [
    "# Move the HDFS file /activity1/data/RandomText.txt to /activity1/data/NotSoRandomText.txt\n",
    "client.rename('/activity1/data/RandomText.txt', '/activity1/data/NotSoRandomText.txt')\n",
    "client.list('/activity1/data')"
   ]
  },
  {
   "cell_type": "code",
   "execution_count": 8,
   "id": "delayed-gospel",
   "metadata": {},
   "outputs": [],
   "source": [
    "with open('./RandomText.txt', 'r') as f:\n",
    "    for line in f:\n",
    "        temp = line"
   ]
  },
  {
   "cell_type": "code",
   "execution_count": 9,
   "id": "macro-expression",
   "metadata": {},
   "outputs": [],
   "source": [
    "# 5. Append the local file RandomText.txt to the end of the HDFS file: /activity1/data/NotSoRandomText.txt\n",
    "client.write(hdfs_path='/activity1/data/NotSoRandomText.txt', data=temp, append=True)"
   ]
  },
  {
   "cell_type": "code",
   "execution_count": 10,
   "id": "encouraging-sandwich",
   "metadata": {},
   "outputs": [
    {
     "data": {
      "text/plain": [
       "65538"
      ]
     },
     "execution_count": 10,
     "metadata": {},
     "output_type": "execute_result"
    }
   ],
   "source": [
    "# 6. List the disk space used by the directory /activity1/data/\n",
    "diskSpaceUsed = client.content('/activity1/data/', strict=True)\n",
    "diskSpaceUsed['spaceConsumed']"
   ]
  },
  {
   "cell_type": "code",
   "execution_count": 11,
   "id": "literary-sponsorship",
   "metadata": {},
   "outputs": [
    {
     "data": {
      "text/plain": [
       "'/activity1/data/MoreRandomText.txt'"
      ]
     },
     "execution_count": 11,
     "metadata": {},
     "output_type": "execute_result"
    }
   ],
   "source": [
    "# 7. Put the local file MoreRandomText.txt into HDFS as the path: /activity1/data/MoreRandomText.txt\n",
    "client.upload(hdfs_path='/activity1/data/', local_path='./MoreRandomText.txt')"
   ]
  },
  {
   "cell_type": "code",
   "execution_count": 12,
   "id": "phantom-charlotte",
   "metadata": {},
   "outputs": [
    {
     "name": "stdout",
     "output_type": "stream",
     "text": [
      "['data']\n",
      "['/activity1/data/MoreRandomText.txt', '/activity1/data/NotSoRandomText.txt']\n"
     ]
    }
   ],
   "source": [
    "# 8. Recursively list the contents of the directory /activity1/\n",
    "fnames = client.list('/activity1')\n",
    "print(fnames)\n",
    "\n",
    "fpaths = [\n",
    "  psp.join(dpath, fname)\n",
    "  for dpath, _, fnames in client.walk('/activity1')\n",
    "  for fname in fnames\n",
    "]\n",
    "\n",
    "print(fpaths)"
   ]
  },
  {
   "cell_type": "code",
   "execution_count": 13,
   "id": "driving-mineral",
   "metadata": {},
   "outputs": [
    {
     "data": {
      "text/plain": [
       "True"
      ]
     },
     "execution_count": 13,
     "metadata": {},
     "output_type": "execute_result"
    }
   ],
   "source": [
    "# 9. Remove the directory /activity1/ and all files/directories underneath it\n",
    "client.delete(hdfs_path='/activity1', recursive=True)"
   ]
  },
  {
   "cell_type": "code",
   "execution_count": 14,
   "id": "north-edward",
   "metadata": {},
   "outputs": [
    {
     "data": {
      "text/plain": [
       "['rmstate']"
      ]
     },
     "execution_count": 14,
     "metadata": {},
     "output_type": "execute_result"
    }
   ],
   "source": [
    "client.list('/')"
   ]
  },
  {
   "cell_type": "code",
   "execution_count": null,
   "id": "immune-screening",
   "metadata": {},
   "outputs": [],
   "source": []
  }
 ],
 "metadata": {
  "kernelspec": {
   "display_name": "Python 3",
   "language": "python",
   "name": "python3"
  },
  "language_info": {
   "codemirror_mode": {
    "name": "ipython",
    "version": 3
   },
   "file_extension": ".py",
   "mimetype": "text/x-python",
   "name": "python",
   "nbconvert_exporter": "python",
   "pygments_lexer": "ipython3",
   "version": "3.7.8"
  }
 },
 "nbformat": 4,
 "nbformat_minor": 5
}
