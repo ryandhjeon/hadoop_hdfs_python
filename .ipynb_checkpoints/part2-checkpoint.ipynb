{
 "cells": [
  {
   "cell_type": "code",
   "execution_count": 1,
   "id": "concerned-shift",
   "metadata": {},
   "outputs": [],
   "source": [
    "from hdfs import InsecureClient\n",
    "from datetime import datetime"
   ]
  },
  {
   "cell_type": "code",
   "execution_count": 2,
   "id": "valid-squad",
   "metadata": {},
   "outputs": [],
   "source": [
    "client = InsecureClient(url='http://localhost:9870', root='/')"
   ]
  },
  {
   "cell_type": "code",
   "execution_count": 3,
   "id": "three-bridal",
   "metadata": {},
   "outputs": [],
   "source": [
    "# Helper\n",
    "def perms(p, prefix='-'):\n",
    "\ts = ''\n",
    "\tfor idx in range(0, 3):\n",
    "\t\tif int(p[idx]) & 4 is 4: s = s + 'r'\n",
    "\t\telse: s = s + '-'\n",
    "\t\tif int(p[idx]) & 2 is 2: s = s + 'w'\n",
    "\t\telse: s = s + '-'\n",
    "\t\tif int(p[idx]) & 1 is 1: s = s + 'x'\n",
    "\t\telse: s = s + '-'\n",
    "\n",
    "\treturn prefix + s\n",
    "\n",
    "# helper to print stats about a file/directory\n",
    "# the prefix is the first printed permission,\n",
    "# a 'd' for directory otherwise '-'\n",
    "def printfile(name, stats, prefix='-'):\n",
    "    print(' '.join((\\\n",
    "\t\tperms(stats['permission'], prefix),\\\n",
    "\t\t'  -' if stats['replication'] is 0 else '%3d' % stats['replication'],\\\n",
    "\t\tstats['owner'],\\\n",
    "\t\tstats['group'],\\\n",
    "\t\t'%10d' % stats['length'],\\\n",
    "\t\tdatetime.fromtimestamp(stats['modificationTime'] / 1000).strftime('%Y-%m-%d %H:%M'),\\\n",
    "\t\tname)))"
   ]
  },
  {
   "cell_type": "code",
   "execution_count": null,
   "id": "governing-router",
   "metadata": {},
   "outputs": [],
   "source": []
  }
 ],
 "metadata": {
  "kernelspec": {
   "display_name": "Python 3",
   "language": "python",
   "name": "python3"
  },
  "language_info": {
   "codemirror_mode": {
    "name": "ipython",
    "version": 3
   },
   "file_extension": ".py",
   "mimetype": "text/x-python",
   "name": "python",
   "nbconvert_exporter": "python",
   "pygments_lexer": "ipython3",
   "version": "3.7.8"
  }
 },
 "nbformat": 4,
 "nbformat_minor": 5
}
